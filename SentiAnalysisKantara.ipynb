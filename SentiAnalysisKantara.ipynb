{
  "cells": [
    {
      "cell_type": "code",
      "execution_count": null,
      "metadata": {
        "colab": {
          "base_uri": "https://localhost:8080/",
          "height": 382
        },
        "collapsed": true,
        "id": "EoZ-sb0rmxIf",
        "outputId": "e64e4b0b-3db8-40d3-cb5a-c9ec9e40c931"
      },
      "outputs": [],
      "source": [
        "import tweepy\n",
        "\n",
        "BEARER_TOKEN = \"AAAAAAAAAAAAAAAAAAAAAE6H4QEAAAAA7umPV6McuooCmFRxKQMHm6bofNo%3D9EjO4XQqQi6DBHKltxq2CjbrZ2aVTyrL2N19W0wUill8w4BMUC\"  # Copy from your Twitter developer app\n",
        "\n",
        "client = tweepy.Client(BEARER_TOKEN)\n",
        "# Case-insensitive query (Twitter handles this automatically)\n",
        "query = 'Kantara Chapter1 review lang:en'  # Add lang:en to your query string\n",
        "tweets = client.search_recent_tweets(query=query, max_results=11)\n",
        "tweet_texts = [tweet.text for tweet in tweets.data]\n",
        "print(tweet_texts)\n"
      ]
    },
    {
      "cell_type": "code",
      "execution_count": null,
      "metadata": {
        "colab": {
          "base_uri": "https://localhost:8080/",
          "height": 1000
        },
        "collapsed": true,
        "id": "SlIpyzxM3ZHx",
        "outputId": "ad6aa678-4a7c-492b-a546-c739c99b87ca"
      },
      "outputs": [
        {
          "name": "stdout",
          "output_type": "stream",
          "text": [
            "Collecting googletrans==4.0.0-rc1\n",
            "  Downloading googletrans-4.0.0rc1.tar.gz (20 kB)\n",
            "  Preparing metadata (setup.py) ... \u001b[?25l\u001b[?25hdone\n",
            "Collecting httpx==0.13.3 (from googletrans==4.0.0-rc1)\n",
            "  Downloading httpx-0.13.3-py3-none-any.whl.metadata (25 kB)\n",
            "Requirement already satisfied: certifi in /usr/local/lib/python3.12/dist-packages (from httpx==0.13.3->googletrans==4.0.0-rc1) (2025.8.3)\n",
            "Collecting hstspreload (from httpx==0.13.3->googletrans==4.0.0-rc1)\n",
            "  Downloading hstspreload-2025.1.1-py3-none-any.whl.metadata (2.1 kB)\n",
            "Requirement already satisfied: sniffio in /usr/local/lib/python3.12/dist-packages (from httpx==0.13.3->googletrans==4.0.0-rc1) (1.3.1)\n",
            "Collecting chardet==3.* (from httpx==0.13.3->googletrans==4.0.0-rc1)\n",
            "  Downloading chardet-3.0.4-py2.py3-none-any.whl.metadata (3.2 kB)\n",
            "Collecting idna==2.* (from httpx==0.13.3->googletrans==4.0.0-rc1)\n",
            "  Downloading idna-2.10-py2.py3-none-any.whl.metadata (9.1 kB)\n",
            "Collecting rfc3986<2,>=1.3 (from httpx==0.13.3->googletrans==4.0.0-rc1)\n",
            "  Downloading rfc3986-1.5.0-py2.py3-none-any.whl.metadata (6.5 kB)\n",
            "Collecting httpcore==0.9.* (from httpx==0.13.3->googletrans==4.0.0-rc1)\n",
            "  Downloading httpcore-0.9.1-py3-none-any.whl.metadata (4.6 kB)\n",
            "Collecting h11<0.10,>=0.8 (from httpcore==0.9.*->httpx==0.13.3->googletrans==4.0.0-rc1)\n",
            "  Downloading h11-0.9.0-py2.py3-none-any.whl.metadata (8.1 kB)\n",
            "Collecting h2==3.* (from httpcore==0.9.*->httpx==0.13.3->googletrans==4.0.0-rc1)\n",
            "  Downloading h2-3.2.0-py2.py3-none-any.whl.metadata (32 kB)\n",
            "Collecting hyperframe<6,>=5.2.0 (from h2==3.*->httpcore==0.9.*->httpx==0.13.3->googletrans==4.0.0-rc1)\n",
            "  Downloading hyperframe-5.2.0-py2.py3-none-any.whl.metadata (7.2 kB)\n",
            "Collecting hpack<4,>=3.0 (from h2==3.*->httpcore==0.9.*->httpx==0.13.3->googletrans==4.0.0-rc1)\n",
            "  Downloading hpack-3.0.0-py2.py3-none-any.whl.metadata (7.0 kB)\n",
            "Downloading httpx-0.13.3-py3-none-any.whl (55 kB)\n",
            "\u001b[2K   \u001b[90m━━━━━━━━━━━━━━━━━━━━━━━━━━━━━━━━━━━━━━━━\u001b[0m \u001b[32m55.1/55.1 kB\u001b[0m \u001b[31m4.5 MB/s\u001b[0m eta \u001b[36m0:00:00\u001b[0m\n",
            "\u001b[?25hDownloading chardet-3.0.4-py2.py3-none-any.whl (133 kB)\n",
            "\u001b[2K   \u001b[90m━━━━━━━━━━━━━━━━━━━━━━━━━━━━━━━━━━━━━━━━\u001b[0m \u001b[32m133.4/133.4 kB\u001b[0m \u001b[31m6.2 MB/s\u001b[0m eta \u001b[36m0:00:00\u001b[0m\n",
            "\u001b[?25hDownloading httpcore-0.9.1-py3-none-any.whl (42 kB)\n",
            "\u001b[2K   \u001b[90m━━━━━━━━━━━━━━━━━━━━━━━━━━━━━━━━━━━━━━━━\u001b[0m \u001b[32m42.6/42.6 kB\u001b[0m \u001b[31m2.8 MB/s\u001b[0m eta \u001b[36m0:00:00\u001b[0m\n",
            "\u001b[?25hDownloading idna-2.10-py2.py3-none-any.whl (58 kB)\n",
            "\u001b[2K   \u001b[90m━━━━━━━━━━━━━━━━━━━━━━━━━━━━━━━━━━━━━━━━\u001b[0m \u001b[32m58.8/58.8 kB\u001b[0m \u001b[31m3.9 MB/s\u001b[0m eta \u001b[36m0:00:00\u001b[0m\n",
            "\u001b[?25hDownloading h2-3.2.0-py2.py3-none-any.whl (65 kB)\n",
            "\u001b[2K   \u001b[90m━━━━━━━━━━━━━━━━━━━━━━━━━━━━━━━━━━━━━━━━\u001b[0m \u001b[32m65.0/65.0 kB\u001b[0m \u001b[31m5.0 MB/s\u001b[0m eta \u001b[36m0:00:00\u001b[0m\n",
            "\u001b[?25hDownloading rfc3986-1.5.0-py2.py3-none-any.whl (31 kB)\n",
            "Downloading hstspreload-2025.1.1-py3-none-any.whl (1.3 MB)\n",
            "\u001b[2K   \u001b[90m━━━━━━━━━━━━━━━━━━━━━━━━━━━━━━━━━━━━━━━━\u001b[0m \u001b[32m1.3/1.3 MB\u001b[0m \u001b[31m30.3 MB/s\u001b[0m eta \u001b[36m0:00:00\u001b[0m\n",
            "\u001b[?25hDownloading h11-0.9.0-py2.py3-none-any.whl (53 kB)\n",
            "\u001b[2K   \u001b[90m━━━━━━━━━━━━━━━━━━━━━━━━━━━━━━━━━━━━━━━━\u001b[0m \u001b[32m53.6/53.6 kB\u001b[0m \u001b[31m3.8 MB/s\u001b[0m eta \u001b[36m0:00:00\u001b[0m\n",
            "\u001b[?25hDownloading hpack-3.0.0-py2.py3-none-any.whl (38 kB)\n",
            "Downloading hyperframe-5.2.0-py2.py3-none-any.whl (12 kB)\n",
            "Building wheels for collected packages: googletrans\n",
            "  Building wheel for googletrans (setup.py) ... \u001b[?25l\u001b[?25hdone\n",
            "  Created wheel for googletrans: filename=googletrans-4.0.0rc1-py3-none-any.whl size=17396 sha256=066572f853434868cffab80f90a70f674be041069dbf0104222d44b7934a7762\n",
            "  Stored in directory: /root/.cache/pip/wheels/95/0f/04/b17a72024b56a60e499ce1a6313d283ed5ba332407155bee03\n",
            "Successfully built googletrans\n",
            "Installing collected packages: rfc3986, hyperframe, hpack, h11, chardet, idna, hstspreload, h2, httpcore, httpx, googletrans\n",
            "  Attempting uninstall: hyperframe\n",
            "    Found existing installation: hyperframe 6.1.0\n",
            "    Uninstalling hyperframe-6.1.0:\n",
            "      Successfully uninstalled hyperframe-6.1.0\n",
            "  Attempting uninstall: hpack\n",
            "    Found existing installation: hpack 4.1.0\n",
            "    Uninstalling hpack-4.1.0:\n",
            "      Successfully uninstalled hpack-4.1.0\n",
            "  Attempting uninstall: h11\n",
            "    Found existing installation: h11 0.16.0\n",
            "    Uninstalling h11-0.16.0:\n",
            "      Successfully uninstalled h11-0.16.0\n",
            "  Attempting uninstall: chardet\n",
            "    Found existing installation: chardet 5.2.0\n",
            "    Uninstalling chardet-5.2.0:\n",
            "      Successfully uninstalled chardet-5.2.0\n",
            "  Attempting uninstall: idna\n",
            "    Found existing installation: idna 3.10\n",
            "    Uninstalling idna-3.10:\n",
            "      Successfully uninstalled idna-3.10\n",
            "  Attempting uninstall: h2\n",
            "    Found existing installation: h2 4.3.0\n",
            "    Uninstalling h2-4.3.0:\n",
            "      Successfully uninstalled h2-4.3.0\n",
            "  Attempting uninstall: httpcore\n",
            "    Found existing installation: httpcore 1.0.9\n",
            "    Uninstalling httpcore-1.0.9:\n",
            "      Successfully uninstalled httpcore-1.0.9\n",
            "  Attempting uninstall: httpx\n",
            "    Found existing installation: httpx 0.28.1\n",
            "    Uninstalling httpx-0.28.1:\n",
            "      Successfully uninstalled httpx-0.28.1\n",
            "\u001b[31mERROR: pip's dependency resolver does not currently take into account all the packages that are installed. This behaviour is the source of the following dependency conflicts.\n",
            "openai 1.109.1 requires httpx<1,>=0.23.0, but you have httpx 0.13.3 which is incompatible.\n",
            "gradio-client 1.13.3 requires httpx>=0.24.1, but you have httpx 0.13.3 which is incompatible.\n",
            "firebase-admin 6.9.0 requires httpx[http2]==0.28.1, but you have httpx 0.13.3 which is incompatible.\n",
            "google-genai 1.39.1 requires httpx<1.0.0,>=0.28.1, but you have httpx 0.13.3 which is incompatible.\n",
            "mcp 1.15.0 requires httpx>=0.27.1, but you have httpx 0.13.3 which is incompatible.\n",
            "langsmith 0.4.31 requires httpx<1,>=0.23.0, but you have httpx 0.13.3 which is incompatible.\n",
            "gradio 5.47.2 requires httpx<1.0,>=0.24.1, but you have httpx 0.13.3 which is incompatible.\u001b[0m\u001b[31m\n",
            "\u001b[0mSuccessfully installed chardet-3.0.4 googletrans-4.0.0rc1 h11-0.9.0 h2-3.2.0 hpack-3.0.0 hstspreload-2025.1.1 httpcore-0.9.1 httpx-0.13.3 hyperframe-5.2.0 idna-2.10 rfc3986-1.5.0\n"
          ]
        },
        {
          "data": {
            "application/vnd.colab-display-data+json": {
              "id": "25f7fd1d091f4bd29bd67291f514b266",
              "pip_warning": {
                "packages": [
                  "chardet",
                  "idna"
                ]
              }
            }
          },
          "metadata": {},
          "output_type": "display_data"
        }
      ],
      "source": [
        "!pip install googletrans==4.0.0-rc1"
      ]
    },
    {
      "cell_type": "code",
      "execution_count": null,
      "metadata": {
        "id": "mBjRf6EnWJKZ"
      },
      "outputs": [],
      "source": []
    },
    {
      "cell_type": "code",
      "execution_count": null,
      "metadata": {
        "colab": {
          "base_uri": "https://localhost:8080/"
        },
        "id": "B5mbZOx53AML",
        "outputId": "c3ca4cf9-0217-4ceb-d664-a920363acc9a"
      },
      "outputs": [
        {
          "name": "stdout",
          "output_type": "stream",
          "text": [
            "['Worth to Watch. Stunts and visual effects are excellent. Good Movie, Congrats to MovieTeam. My Rating: 8.8/10.', \"Here is my honest review of Kantara Chapter 1. I am a fan of Kantara. I have watched the legend 8-10 time in last 2 years. I went with lots of expectations. First half of the movie was not so good. Comedy punches were not landing. Gulshan Devaiah's dubbing is...\", 'Kantara: Chapter 1 Movie Review: The power of love, hatred, war and pellet ...', 'Kantara Chapter 1 Review: A thrilling journey of a wonderful world', \"Kantara chapter 1: Ghost cola, mysterious storytelling, different experience ..;2 reasons for watching 'Kantara Chapter 1' movie\", \"Rishab Shetty gives you 'that-one-scene-you-can't-stop-talking about' in plenty. The sheer commitment to scale is impeccable.\", \"Kantara Chapter 1 A visual spectacle with divine folklore, Rishab Shetty's stellar act. Slow pacing in parts, but worth the big screen!\", 'Kantara Chapter 1: Kantara Chapter 1: Destroyed Expectations!', 'Bumper earning of Kantara Chapter 1;Broke records of 10 blockbuster films!Kantha...', 'Cine Kadak - Kantara Chapter 1 Bhai Kya Kya Story, this movie could only make Rishab Setty.', 'Kantara Chapter 1: Kanatavalli portrays god with mind blowing performance. Kudos to Rishabh Shetty and whole Kantara cast and crew.', 'Kantara Chapter 1: Visual and emotional spectacle. Critics Rating: 4.5/5.', 'Kantara Chapter 1 Review: Preet, Mallet, War and Guligan Shakti ...', 'CineMirror: Kantara Chapter 1 Movie Review – A Visual and Emotional Spectacle...', \"Kantara Chapter 1 is made with an eye for speed. Scenes don't linger. Instead, Rishabh Shetty hurls them onto a high-speed treadmill.\", 'Bollymoviereviewz: Kantara Chapter 1 Movie Review – All Critics – Kantara Chapter 1 Movie Review', \"Ved Nayak: Curse of the sequel/prequel. While Rishab Shetty's 2022 movie had a soul, here remains only the scream, as the soul flickers.\", 'Kantara Chapter 1 Review: Honest Thoughts. Highly anticipated prequel takes us deeper into the world of folklore, daivas, and mysticism.', 'Kantara A Legend – Chapter 1 Movie Review: A journey into myth, faith and fury of nature.', 'Rishab Shetty ups the Kantara game – Brilliant performance and amazing storytelling.', 'Kids Fav. Movie | Kantara Chapter 1 Public Review | Rishab Shetty | Kantara Chapter 1 Review', \"Review: CAPTIVATING. Kantara Chapter 1 is a visual spectacle with divine folklore, & Rishab Shetty's stellar act.\", 'Cinema: Kantara Chapter 1 Literature Features, Visual Wonders…', \"Quality story.The hero's character was wonderful.\", 'When picking up, every scene will not bear…', \"Don't forget to see how the story, scene, in the middle of Kantara Chapter 1.\", 'Kantara chapter 1 movie review, verdict: Must watch with family. Visual treat.', 'Rishab Shetty crafts a visual world far beyond expectations.', 'Kantara chapter 1 movie review | Tamil + English Mixed Review...', 'Kantara Chapter 1 – A grand prequel rooted in folklore and spectacle.', \"Kantara Chapter 1: 3 reasons for watching the movie 'Kantara: Czepter 1'.\", 'Kantara Chapter 1 Review: Preeti, two 3, War and Guligan power ...', 'Kantara Chapter 1 Movie Review: Honest thoughts by movie reviewer.', 'Kantara Chapter 1 honest audience review: packed with stunning VFX and action.', 'Review: KanTara chapter 1 movie – A wonderful movie with epic visuals.', 'Kantara Chapter 1 Review: Visual delight, music & myth blend well.', \"Kantara Chapter 1: Worship of God's beloved in the story of jars.\", 'Story of Kanatara chapter 1 is really gripping and performances were superb.', 'Audiance says: Ultimately a visual experience worth the money spent.', 'Kantara Chapter 1 review – expected bigger impact, but technically solid.', 'Direction and art department is top-notch. Salute to the crew.', 'Movie review: Not as emotionally deep as the first part, but impressive scale.', 'Great experience, especially during the climax. Goosebumps moment!', 'Costumes and VFX outstanding. Dialogues could have been tighter.', 'Well executed prequel. Camera work sets a new bar for regional cinema.', 'Mythology and culture merge beautifully in this film. Music is soul-stirring.', 'Very good attempt, minor pacing issues but recommended.', 'Negative: Plot felt rushed. Positive: Performances from the lead cast.', 'Kantara Chapter 1 – Rishab Shetty steals the show. A must-watch.', 'Regional pride at its best. Real Indian mythology showcased.', 'Climax was a letdown but the journey was worth it.', 'Kantara Chapter 1: Extraordinary movie. Devotion and visuals stand out.', 'Audience verdict: See it in theaters. Gets better on the big screen.', 'Lots of action, drama, vivid sets – truly cinematic.', 'Kantara Chapter 1: Honest Review – 4/5 for acting, visuals, and music!', 'Movie Review: Contara Chapter 1 - Brought a heartfelt!', 'Kantara Chapter 1: The massive visual indicator of a pre-time story.', 'All about belief and epic scale – movie is different than usual mass movies.', 'Follow up movie lived up to the expectations.', 'Must watch for every fan of Indian folklore and history.', \"Not everyone's cup of tea, but absolutely stunning for fans of the genre.\", 'Music and temple scenes are hypnotizing.', 'Epic story, top direction, recommend to all movie lovers.', 'Dialog delivery and set pieces are highlight.', 'Best use of color in Indian cinema this year.', 'They nailed the costumes and rituals. Feels authentic.', 'A bit long, could cut 10 mins, but enjoyable.', 'Suspense built up well, payoff is decent.', 'Kantara Chapter 1 movie review: So much depth and detail in every shot.', 'Best visual effects in Kannada cinema ever.', 'Riveting music score. Background score is goosebumps.', 'Theater experience is a must for this spectacle.', 'Screenplay is strong; not much for comedy lovers though.', 'Dialogues felt forced at times.', 'Not as great as Kantara original but stands tall.']\n"
          ]
        }
      ],
      "source": [
        "from googletrans import Translator\n",
        "translator = Translator()\n",
        "tweet_texts = [\n",
        "\"Worth to Watch. Stunts and visual effects are excellent. Good Movie, Congrats to MovieTeam. My Rating: 8.8/10.\",\n",
        "\"Here is my honest review of Kantara Chapter 1. I am a fan of Kantara. I have watched the legend 8-10 time in last 2 years. I went with lots of expectations. First half of the movie was not so good. Comedy punches were not landing. Gulshan Devaiah's dubbing is...\",\n",
        "\"Kantara: Chapter 1 Movie Review : ಪ್ರೀತಿ, ದ್ವೇಷ, ಯುದ್ಧ ಮತ್ತು ಗುಳಿಗನ ಶಕ್ತಿ...\",\n",
        "\"Kantara Chapter 1 Review : एका अद्भुत जगाचा थरारक प्रवास\",\n",
        "\"Kantara Chapter 1: भूत कोला, रहस्यमय कथानक, वेगळा अनुभव..; ‘कांतारा चॅप्टर १' चित्रपट पाहण्याची १० कारणे\",\n",
        "\"Rishab Shetty gives you 'that-one-scene-you-can't-stop-talking about' in plenty. The sheer commitment to scale is impeccable.\",\n",
        "\"Kantara Chapter 1 A visual spectacle with divine folklore, Rishab Shetty's stellar act. Slow pacing in parts, but worth the big screen!\",\n",
        "\"Kantara Chapter 1 : कांतारा चॅप्टर १: उद्ध्वस्त अपेक्षांचं भर्जरी लेणं!\",\n",
        "\"Kantara Chapter 1 की बंपर कमाई; 10 ब्लॉकबस्टर फिल्मों के तोड़े रिकॉर्ड! कांता...\",\n",
        "\"Cine KADAK – Kantara Chapter 1 bhai kya story hai wah Ye movie sirf aur sirf Rishab setthy hi bna sakte the Aisa mujhe lagta hai.\",\n",
        "\"Kantara Chapter 1: Kanatavalli portrays god with mind blowing performance. Kudos to Rishabh Shetty and whole Kantara cast and crew.\",\n",
        "\"Kantara Chapter 1: Visual and emotional spectacle. Critics Rating: 4.5/5.\",\n",
        "\"Kantara Chapter 1 Review : प्रीत, द्वेष, युद्ध और गुलिगन शक्ति...\",\n",
        "\"CineMirror: Kantara Chapter 1 Movie Review – A Visual and Emotional Spectacle...\",\n",
        "\"Kantara Chapter 1 is made with an eye for speed. Scenes don't linger. Instead, Rishabh Shetty hurls them onto a high-speed treadmill.\",\n",
        "\"Bollymoviereviewz: Kantara Chapter 1 Movie Review – All Critics – Kantara Chapter 1 Movie Review\",\n",
        "\"Ved Nayak: Curse of the sequel/prequel. While Rishab Shetty's 2022 movie had a soul, here remains only the scream, as the soul flickers.\",\n",
        "\"Kantara Chapter 1 Review: Honest Thoughts. Highly anticipated prequel takes us deeper into the world of folklore, daivas, and mysticism.\",\n",
        "\"Kantara A Legend – Chapter 1 Movie Review: A journey into myth, faith and fury of nature.\",\n",
        "\"Rishab Shetty ups the Kantara game – Brilliant performance and amazing storytelling.\",\n",
        "\"Kids Fav. Movie | Kantara Chapter 1 Public Review | Rishab Shetty | Kantara Chapter 1 Review\",\n",
        "\"Review: CAPTIVATING. Kantara Chapter 1 is a visual spectacle with divine folklore, & Rishab Shetty's stellar act.\",\n",
        "\"ಸಿನಿಮಾ: ಕಾಂತಾರ ಚಾಪ್ಟರ್ 1 ಸಾಹಿತ್ಯದ ವೈಶಿಷ್ಟ್ಯಗಳು, ದೃಶ್ಯ ವಿಸ್ಮಯಗಳು…\",\n",
        "\"தரமான கதை. நாயகன் கதாப்பாத்திரம் அற்புதமாக இருந்தது.\",\n",
        "\"పిక్ చేసుకున్నప్పుడు, ప్రతి సన్నివేశం కూడా భరించనివ్వదు…\",\n",
        "\"Kantara Chapter 1 नी मध्यभागी कथा, दृश्य, कसे आहेत हे पहायला विसरू नका.\",\n",
        "\"Kantara chapter 1 movie review, verdict: Must watch with family. Visual treat.\",\n",
        "\"Rishab Shetty crafts a visual world far beyond expectations.\",\n",
        "\"Kantara chapter 1 movie review | Tamil + English Mixed Review...\",\n",
        "\"Kantara Chapter 1 – A grand prequel rooted in folklore and spectacle.\",\n",
        "\"Kantara Chapter 1: ‘कांतारा: चैप्टर १’ चित्रपट पाहण्याची १० कारणे.\",\n",
        "\"Kantara Chapter 1 Review: प्रीत, द्वೇಷ, युद्ध आणि गुलिगन शक्ती...\",\n",
        "\"Kantara Chapter 1 Movie Review: Honest thoughts by movie reviewer.\",\n",
        "\"Kantara Chapter 1 honest audience review: packed with stunning VFX and action.\",\n",
        "\"Review: KanTara chapter 1 movie – A wonderful movie with epic visuals.\",\n",
        "\"Kantara Chapter 1 Review: Visual delight, music & myth blend well.\",\n",
        "\"Kantara Chapter 1: ಜಾಡಿಗಳ ಕಥೆಯಲ್ಲಿದೆ ದೇವರ ಪ್ರಿಯಗಳ ಆರಾಧನೆ.\",\n",
        "\"Story of Kanatara chapter 1 is really gripping and performances were superb.\",\n",
        "\"Audiance says: Ultimately a visual experience worth the money spent.\",\n",
        "\"Kantara Chapter 1 review – expected bigger impact, but technically solid.\",\n",
        "\"Direction and art department is top-notch. Salute to the crew.\",\n",
        "\"Movie review: Not as emotionally deep as the first part, but impressive scale.\",\n",
        "\"Great experience, especially during the climax. Goosebumps moment!\",\n",
        "\"Costumes and VFX outstanding. Dialogues could have been tighter.\",\n",
        "\"Well executed prequel. Camera work sets a new bar for regional cinema.\",\n",
        "\"Mythology and culture merge beautifully in this film. Music is soul-stirring.\",\n",
        "\"Very good attempt, minor pacing issues but recommended.\",\n",
        "\"Negative: Plot felt rushed. Positive: Performances from the lead cast.\",\n",
        "\"Kantara Chapter 1 – Rishab Shetty steals the show. A must-watch.\",\n",
        "\"Regional pride at its best. Real Indian mythology showcased.\",\n",
        "\"Climax was a letdown but the journey was worth it.\",\n",
        "\"Kantara Chapter 1: Extraordinary movie. Devotion and visuals stand out.\",\n",
        "\"Audience verdict: See it in theaters. Gets better on the big screen.\",\n",
        "\"Lots of action, drama, vivid sets – truly cinematic.\",\n",
        "\"Kantara Chapter 1: Honest Review – 4/5 for acting, visuals, and music!\",\n",
        "\"મૂવી રિવ્યુ: કંટારા ચેપ્ટર 1 – દિલથી લાવ્યું છે!\",\n",
        "\"Kantara Chapter 1: පූර්වකාලීන කතාවක දැවැන්ත දෘශ්‍ය දර්ශකයයි.\",\n",
        "\"All about belief and epic scale – movie is different than usual mass movies.\",\n",
        "\"Follow up movie lived up to the expectations.\",\n",
        "\"Must watch for every fan of Indian folklore and history.\",\n",
        "\"Not everyone's cup of tea, but absolutely stunning for fans of the genre.\",\n",
        "\"Music and temple scenes are hypnotizing.\",\n",
        "\"Epic story, top direction, recommend to all movie lovers.\",\n",
        "\"Dialog delivery and set pieces are highlight.\",\n",
        "\"Best use of color in Indian cinema this year.\",\n",
        "\"They nailed the costumes and rituals. Feels authentic.\",\n",
        "\"A bit long, could cut 10 mins, but enjoyable.\",\n",
        "\"Suspense built up well, payoff is decent.\",\n",
        "\"Kantara Chapter 1 movie review: So much depth and detail in every shot.\",\n",
        "\"Best visual effects in Kannada cinema ever.\",\n",
        "\"Riveting music score. Background score is goosebumps.\",\n",
        "\"Theater experience is a must for this spectacle.\",\n",
        "\"Screenplay is strong; not much for comedy lovers though.\",\n",
        "\"Dialogues felt forced at times.\",\n",
        "\"Not as great as Kantara original but stands tall.\"\n",
        "]\n",
        "translated_texts = [translator.translate(text, dest='en').text for text in tweet_texts]\n",
        "print(translated_texts)\n"
      ]
    },
    {
      "cell_type": "code",
      "execution_count": null,
      "metadata": {
        "colab": {
          "base_uri": "https://localhost:8080/"
        },
        "collapsed": true,
        "id": "HVSY8MZm4zU_",
        "outputId": "1ebf1163-1a67-4197-f4bf-e2fb589e3566"
      },
      "outputs": [
        {
          "name": "stdout",
          "output_type": "stream",
          "text": [
            "Requirement already satisfied: vaderSentiment in /usr/local/lib/python3.12/dist-packages (3.3.2)\n",
            "Requirement already satisfied: requests in /usr/local/lib/python3.12/dist-packages (from vaderSentiment) (2.32.4)\n",
            "Requirement already satisfied: charset_normalizer<4,>=2 in /usr/local/lib/python3.12/dist-packages (from requests->vaderSentiment) (3.4.3)\n",
            "Requirement already satisfied: idna<4,>=2.5 in /usr/local/lib/python3.12/dist-packages (from requests->vaderSentiment) (2.10)\n",
            "Requirement already satisfied: urllib3<3,>=1.21.1 in /usr/local/lib/python3.12/dist-packages (from requests->vaderSentiment) (2.5.0)\n",
            "Requirement already satisfied: certifi>=2017.4.17 in /usr/local/lib/python3.12/dist-packages (from requests->vaderSentiment) (2025.8.3)\n",
            "\u001b[31mERROR: Operation cancelled by user\u001b[0m\u001b[31m\n",
            "\u001b[0m"
          ]
        }
      ],
      "source": [
        "!pip install vaderSentiment"
      ]
    },
    {
      "cell_type": "code",
      "execution_count": null,
      "metadata": {
        "colab": {
          "base_uri": "https://localhost:8080/"
        },
        "id": "MMOAl7CgYRSl",
        "outputId": "9863253f-3353-481a-ef4c-f59a0ad06845"
      },
      "outputs": [
        {
          "name": "stderr",
          "output_type": "stream",
          "text": [
            "No model was supplied, defaulted to distilbert/distilbert-base-uncased-finetuned-sst-2-english and revision 714eb0f (https://huggingface.co/distilbert/distilbert-base-uncased-finetuned-sst-2-english).\n",
            "Using a pipeline without specifying a model name and revision in production is not recommended.\n",
            "Device set to use cpu\n"
          ]
        },
        {
          "name": "stdout",
          "output_type": "stream",
          "text": [
            "[{'label': 'POSITIVE', 'score': 0.9998500347137451}, {'label': 'NEGATIVE', 'score': 0.934101402759552}, {'label': 'POSITIVE', 'score': 0.9998087286949158}, {'label': 'POSITIVE', 'score': 0.9998842477798462}, {'label': 'POSITIVE', 'score': 0.9479721188545227}, {'label': 'POSITIVE', 'score': 0.9998251795768738}, {'label': 'POSITIVE', 'score': 0.9997444748878479}, {'label': 'NEGATIVE', 'score': 0.9821305871009827}, {'label': 'POSITIVE', 'score': 0.9977310299873352}, {'label': 'NEGATIVE', 'score': 0.9911714196205139}, {'label': 'POSITIVE', 'score': 0.9993244409561157}, {'label': 'POSITIVE', 'score': 0.9358857870101929}, {'label': 'POSITIVE', 'score': 0.5802577137947083}, {'label': 'POSITIVE', 'score': 0.9972261786460876}, {'label': 'POSITIVE', 'score': 0.9959415793418884}, {'label': 'NEGATIVE', 'score': 0.6276837587356567}, {'label': 'NEGATIVE', 'score': 0.981255054473877}, {'label': 'POSITIVE', 'score': 0.9998276233673096}, {'label': 'POSITIVE', 'score': 0.9993643164634705}, {'label': 'POSITIVE', 'score': 0.9998619556427002}, {'label': 'POSITIVE', 'score': 0.9742711186408997}, {'label': 'POSITIVE', 'score': 0.9998667240142822}, {'label': 'POSITIVE', 'score': 0.9991922974586487}, {'label': 'POSITIVE', 'score': 0.9998856782913208}, {'label': 'NEGATIVE', 'score': 0.999717652797699}, {'label': 'POSITIVE', 'score': 0.9972750544548035}, {'label': 'POSITIVE', 'score': 0.9998378753662109}, {'label': 'POSITIVE', 'score': 0.9994243383407593}, {'label': 'NEGATIVE', 'score': 0.956351637840271}, {'label': 'POSITIVE', 'score': 0.9984461665153503}, {'label': 'NEGATIVE', 'score': 0.9910763502120972}, {'label': 'POSITIVE', 'score': 0.9760565757751465}, {'label': 'POSITIVE', 'score': 0.999809205532074}, {'label': 'POSITIVE', 'score': 0.9998207688331604}, {'label': 'POSITIVE', 'score': 0.9998852014541626}, {'label': 'POSITIVE', 'score': 0.9998610019683838}, {'label': 'POSITIVE', 'score': 0.9946468472480774}, {'label': 'POSITIVE', 'score': 0.9998708963394165}, {'label': 'POSITIVE', 'score': 0.99870765209198}, {'label': 'POSITIVE', 'score': 0.9997091889381409}, {'label': 'POSITIVE', 'score': 0.9998235106468201}, {'label': 'POSITIVE', 'score': 0.9996153116226196}, {'label': 'POSITIVE', 'score': 0.9997734427452087}, {'label': 'POSITIVE', 'score': 0.9936827421188354}, {'label': 'POSITIVE', 'score': 0.9994926452636719}, {'label': 'POSITIVE', 'score': 0.9998807907104492}, {'label': 'POSITIVE', 'score': 0.9994031190872192}, {'label': 'POSITIVE', 'score': 0.9716926217079163}, {'label': 'POSITIVE', 'score': 0.9995238780975342}, {'label': 'POSITIVE', 'score': 0.9997968077659607}, {'label': 'POSITIVE', 'score': 0.9996902942657471}, {'label': 'POSITIVE', 'score': 0.9998750686645508}, {'label': 'POSITIVE', 'score': 0.9710755348205566}, {'label': 'POSITIVE', 'score': 0.9998611211776733}, {'label': 'POSITIVE', 'score': 0.9994580149650574}, {'label': 'POSITIVE', 'score': 0.9998588562011719}, {'label': 'POSITIVE', 'score': 0.9980033040046692}, {'label': 'POSITIVE', 'score': 0.997330904006958}, {'label': 'POSITIVE', 'score': 0.9970842003822327}, {'label': 'POSITIVE', 'score': 0.9997652173042297}, {'label': 'POSITIVE', 'score': 0.9998328685760498}, {'label': 'NEGATIVE', 'score': 0.5160189270973206}, {'label': 'POSITIVE', 'score': 0.9998683929443359}, {'label': 'POSITIVE', 'score': 0.9989253878593445}, {'label': 'POSITIVE', 'score': 0.9998225569725037}, {'label': 'POSITIVE', 'score': 0.9997370839118958}, {'label': 'POSITIVE', 'score': 0.9993700385093689}, {'label': 'POSITIVE', 'score': 0.9998292922973633}, {'label': 'POSITIVE', 'score': 0.9980952143669128}, {'label': 'POSITIVE', 'score': 0.9998284578323364}, {'label': 'POSITIVE', 'score': 0.9997832179069519}, {'label': 'POSITIVE', 'score': 0.9993674159049988}, {'label': 'POSITIVE', 'score': 0.9969601631164551}, {'label': 'NEGATIVE', 'score': 0.9992294311523438}, {'label': 'POSITIVE', 'score': 0.9992170333862305}]\n"
          ]
        }
      ],
      "source": [
        "from transformers import pipeline\n",
        "\n",
        "# Download sentiment-analysis pipeline (internet required)\n",
        "sentiment_pipeline = pipeline(\"sentiment-analysis\")\n",
        "sentiments = sentiment_pipeline(translated_texts)\n",
        "print(sentiments)\n"
      ]
    },
    {
      "cell_type": "code",
      "execution_count": null,
      "metadata": {
        "colab": {
          "base_uri": "https://localhost:8080/"
        },
        "collapsed": true,
        "id": "qUAUULRtnyil",
        "outputId": "f6313272-ef1f-4d77-9be7-60d2c3524aeb"
      },
      "outputs": [
        {
          "name": "stdout",
          "output_type": "stream",
          "text": [
            "                                                 text  \\\n",
            "0   Worth to Watch. Stunts and visual effects are ...   \n",
            "1   Here is my honest review of Kantara Chapter 1....   \n",
            "2   Kantara: Chapter 1 Movie Review: The power of ...   \n",
            "3   Kantara Chapter 1 Review: A thrilling journey ...   \n",
            "4   Kantara chapter 1: Ghost cola, mysterious stor...   \n",
            "..                                                ...   \n",
            "70  Riveting music score. Background score is goos...   \n",
            "71   Theater experience is a must for this spectacle.   \n",
            "72  Screenplay is strong; not much for comedy love...   \n",
            "73                    Dialogues felt forced at times.   \n",
            "74  Not as great as Kantara original but stands tall.   \n",
            "\n",
            "                                            sentiment  \n",
            "0   {'label': 'POSITIVE', 'score': 0.9998500347137...  \n",
            "1   {'label': 'NEGATIVE', 'score': 0.934101402759552}  \n",
            "2   {'label': 'POSITIVE', 'score': 0.9998087286949...  \n",
            "3   {'label': 'POSITIVE', 'score': 0.9998842477798...  \n",
            "4   {'label': 'POSITIVE', 'score': 0.9479721188545...  \n",
            "..                                                ...  \n",
            "70  {'label': 'POSITIVE', 'score': 0.9997832179069...  \n",
            "71  {'label': 'POSITIVE', 'score': 0.9993674159049...  \n",
            "72  {'label': 'POSITIVE', 'score': 0.9969601631164...  \n",
            "73  {'label': 'NEGATIVE', 'score': 0.9992294311523...  \n",
            "74  {'label': 'POSITIVE', 'score': 0.9992170333862...  \n",
            "\n",
            "[75 rows x 2 columns]\n"
          ]
        }
      ],
      "source": [
        "import pandas as pd\n",
        "\n",
        "df = pd.DataFrame({'text': translated_texts, 'sentiment': sentiments})\n",
        "print(df)\n",
        "# Optionally save to Excel:\n",
        "df.to_excel('Kantara_sentiments.xlsx')\n"
      ]
    },
    {
      "cell_type": "code",
      "execution_count": null,
      "metadata": {
        "colab": {
          "base_uri": "https://localhost:8080/",
          "height": 521
        },
        "id": "puVzUFX2ZmSG",
        "outputId": "b0568a80-736e-4708-a2d7-dac8eab2214a"
      },
      "outputs": [
        {
          "data": {
            "image/png": "[encoded data removed]",
            "text/plain": [
              "<Figure size 600x600 with 1 Axes>"
            ]
          },
          "metadata": {},
          "output_type": "display_data"
        }
      ],
      "source": [
        "import matplotlib.pyplot as plt\n",
        "\n",
        "labels = ['POSITIVE', 'NEUTRAL', 'NEGATIVE']\n",
        "scores = [positives, neutrals, negatives]  # Same as before\n",
        "\n",
        "plt.figure(figsize=(6, 6))\n",
        "plt.pie(scores, labels=labels, autopct='%1.1f%%', startangle=140)\n",
        "plt.title('Kantara Twitter Sentiments (Pie Chart)')\n",
        "plt.show()\n"
      ]
    },
    {
      "cell_type": "code",
      "execution_count": null,
      "metadata": {
        "colab": {
          "base_uri": "https://localhost:8080/",
          "height": 391
        },
        "id": "mXMDFvIsZpX_",
        "outputId": "0e4c957e-3cb5-42f5-e052-b91e102bc73f"
      },
      "outputs": [
        {
          "data": {
            "image/png": "[encoded data removed]",
            "text/plain": [
              "<Figure size 600x400 with 1 Axes>"
            ]
          },
          "metadata": {},
          "output_type": "display_data"
        }
      ],
      "source": [
        "plt.figure(figsize=(6, 4))\n",
        "plt.bar(labels, scores, color=['green', 'blue', 'red'])\n",
        "plt.title('Kantara Twitter Sentiments (Bar Chart)')\n",
        "plt.ylabel('Number of Tweets')\n",
        "plt.show()\n"
      ]
    }
  ],
  "metadata": {
    "colab": {
      "provenance": []
    },
    "kernelspec": {
      "display_name": "Python 3",
      "name": "python3"
    },
    "language_info": {
      "name": "python"
    }
  },
  "nbformat": 4,
  "nbformat_minor": 0
}
